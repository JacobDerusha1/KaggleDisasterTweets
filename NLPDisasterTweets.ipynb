{
 "cells": [
  {
   "cell_type": "code",
   "execution_count": 120,
   "id": "5f0f8ecf",
   "metadata": {},
   "outputs": [
    {
     "name": "stderr",
     "output_type": "stream",
     "text": [
      "[nltk_data] Downloading package punkt to\n",
      "[nltk_data]     C:\\Users\\jacob\\AppData\\Roaming\\nltk_data...\n",
      "[nltk_data]   Package punkt is already up-to-date!\n",
      "[nltk_data] Downloading package stopwords to\n",
      "[nltk_data]     C:\\Users\\jacob\\AppData\\Roaming\\nltk_data...\n",
      "[nltk_data]   Package stopwords is already up-to-date!\n"
     ]
    }
   ],
   "source": [
    "import pandas as pd\n",
    "import numpy as np\n",
    "import os\n",
    "import matplotlib.pyplot as plt\n",
    "import seaborn as sns\n",
    "from tqdm import tqdm\n",
    "import re\n",
    "import string\n",
    "%matplotlib inline\n",
    "\n",
    "# nltk\n",
    "import nltk\n",
    "nltk.download('punkt')\n",
    "nltk.download('stopwords')\n",
    "from nltk.tokenize import word_tokenize\n",
    "from nltk.corpus import stopwords\n",
    "\n",
    "#SKLearn\n",
    "from sklearn.model_selection import StratifiedKFold\n",
    "from sklearn.metrics import accuracy_score\n",
    "from sklearn.model_selection import train_test_split\n",
    "from sklearn.feature_extraction.text import TfidfVectorizer\n",
    "\n",
    "# Tensorflow\n",
    "import tensorflow as tf\n",
    "from tensorflow.keras.layers import Dense, Dropout, Embedding, LSTM, Bidirectional, SpatialDropout1D, GRU\n",
    "from tensorflow.keras.models import Sequential, Model, load_model\n",
    "from tensorflow.keras.optimizers import Adam\n",
    "from keras.initializers import Constant\n",
    "from tensorflow.keras.callbacks import EarlyStopping, ModelCheckpoint, ReduceLROnPlateau\n",
    "from tensorflow.keras.regularizers import L1L2"
   ]
  },
  {
   "cell_type": "markdown",
   "id": "692fbf22",
   "metadata": {},
   "source": [
    "# NLP Disaster Tweets\n",
    "\n",
    "Data: The data is downloaded from Kaggle.\n",
    "Columns in the data:\n",
    "\n",
    "    id - a unique identifier for each tweet\n",
    "    text - the text of the tweet\n",
    "    location - the location the tweet was sent from (may be blank)\n",
    "    keyword - a particular keyword from the tweet (may be blank)\n",
    "    target - in train.csv only, this denotes whether a tweet is about a real disaster (1) or not (0)\n",
    "\n",
    "Using this data, we are going to trasnform the text, and embed it into 2 different RNN implementations, LSTM and GRU. We are then going to compare these models, and choose which one we are going to use to make predictions from our final submission.\n",
    "   \n",
    "\n",
    "## Exploritory Data Analysis"
   ]
  },
  {
   "cell_type": "code",
   "execution_count": 157,
   "id": "5120f850",
   "metadata": {},
   "outputs": [],
   "source": [
    "# Reading in the data\n",
    "train = pd.read_csv('../NLPDisasterTweets/train.csv')\n",
    "test = pd.read_csv('../NLPDisasterTweets/test.csv')"
   ]
  },
  {
   "cell_type": "code",
   "execution_count": 158,
   "id": "e8fb70fe",
   "metadata": {},
   "outputs": [
    {
     "data": {
      "text/html": [
       "<div>\n",
       "<style scoped>\n",
       "    .dataframe tbody tr th:only-of-type {\n",
       "        vertical-align: middle;\n",
       "    }\n",
       "\n",
       "    .dataframe tbody tr th {\n",
       "        vertical-align: top;\n",
       "    }\n",
       "\n",
       "    .dataframe thead th {\n",
       "        text-align: right;\n",
       "    }\n",
       "</style>\n",
       "<table border=\"1\" class=\"dataframe\">\n",
       "  <thead>\n",
       "    <tr style=\"text-align: right;\">\n",
       "      <th></th>\n",
       "      <th>id</th>\n",
       "      <th>keyword</th>\n",
       "      <th>location</th>\n",
       "      <th>text</th>\n",
       "      <th>target</th>\n",
       "    </tr>\n",
       "  </thead>\n",
       "  <tbody>\n",
       "    <tr>\n",
       "      <th>0</th>\n",
       "      <td>1</td>\n",
       "      <td>NaN</td>\n",
       "      <td>NaN</td>\n",
       "      <td>Our Deeds are the Reason of this #earthquake M...</td>\n",
       "      <td>1</td>\n",
       "    </tr>\n",
       "    <tr>\n",
       "      <th>1</th>\n",
       "      <td>4</td>\n",
       "      <td>NaN</td>\n",
       "      <td>NaN</td>\n",
       "      <td>Forest fire near La Ronge Sask. Canada</td>\n",
       "      <td>1</td>\n",
       "    </tr>\n",
       "    <tr>\n",
       "      <th>2</th>\n",
       "      <td>5</td>\n",
       "      <td>NaN</td>\n",
       "      <td>NaN</td>\n",
       "      <td>All residents asked to 'shelter in place' are ...</td>\n",
       "      <td>1</td>\n",
       "    </tr>\n",
       "    <tr>\n",
       "      <th>3</th>\n",
       "      <td>6</td>\n",
       "      <td>NaN</td>\n",
       "      <td>NaN</td>\n",
       "      <td>13,000 people receive #wildfires evacuation or...</td>\n",
       "      <td>1</td>\n",
       "    </tr>\n",
       "    <tr>\n",
       "      <th>4</th>\n",
       "      <td>7</td>\n",
       "      <td>NaN</td>\n",
       "      <td>NaN</td>\n",
       "      <td>Just got sent this photo from Ruby #Alaska as ...</td>\n",
       "      <td>1</td>\n",
       "    </tr>\n",
       "  </tbody>\n",
       "</table>\n",
       "</div>"
      ],
      "text/plain": [
       "   id keyword location                                               text  \\\n",
       "0   1     NaN      NaN  Our Deeds are the Reason of this #earthquake M...   \n",
       "1   4     NaN      NaN             Forest fire near La Ronge Sask. Canada   \n",
       "2   5     NaN      NaN  All residents asked to 'shelter in place' are ...   \n",
       "3   6     NaN      NaN  13,000 people receive #wildfires evacuation or...   \n",
       "4   7     NaN      NaN  Just got sent this photo from Ruby #Alaska as ...   \n",
       "\n",
       "   target  \n",
       "0       1  \n",
       "1       1  \n",
       "2       1  \n",
       "3       1  \n",
       "4       1  "
      ]
     },
     "execution_count": 158,
     "metadata": {},
     "output_type": "execute_result"
    }
   ],
   "source": [
    "train.head()"
   ]
  },
  {
   "cell_type": "code",
   "execution_count": 159,
   "id": "30a09ad6",
   "metadata": {},
   "outputs": [
    {
     "data": {
      "text/html": [
       "<div>\n",
       "<style scoped>\n",
       "    .dataframe tbody tr th:only-of-type {\n",
       "        vertical-align: middle;\n",
       "    }\n",
       "\n",
       "    .dataframe tbody tr th {\n",
       "        vertical-align: top;\n",
       "    }\n",
       "\n",
       "    .dataframe thead th {\n",
       "        text-align: right;\n",
       "    }\n",
       "</style>\n",
       "<table border=\"1\" class=\"dataframe\">\n",
       "  <thead>\n",
       "    <tr style=\"text-align: right;\">\n",
       "      <th></th>\n",
       "      <th>id</th>\n",
       "      <th>keyword</th>\n",
       "      <th>location</th>\n",
       "      <th>text</th>\n",
       "    </tr>\n",
       "  </thead>\n",
       "  <tbody>\n",
       "    <tr>\n",
       "      <th>0</th>\n",
       "      <td>0</td>\n",
       "      <td>NaN</td>\n",
       "      <td>NaN</td>\n",
       "      <td>Just happened a terrible car crash</td>\n",
       "    </tr>\n",
       "    <tr>\n",
       "      <th>1</th>\n",
       "      <td>2</td>\n",
       "      <td>NaN</td>\n",
       "      <td>NaN</td>\n",
       "      <td>Heard about #earthquake is different cities, s...</td>\n",
       "    </tr>\n",
       "    <tr>\n",
       "      <th>2</th>\n",
       "      <td>3</td>\n",
       "      <td>NaN</td>\n",
       "      <td>NaN</td>\n",
       "      <td>there is a forest fire at spot pond, geese are...</td>\n",
       "    </tr>\n",
       "    <tr>\n",
       "      <th>3</th>\n",
       "      <td>9</td>\n",
       "      <td>NaN</td>\n",
       "      <td>NaN</td>\n",
       "      <td>Apocalypse lighting. #Spokane #wildfires</td>\n",
       "    </tr>\n",
       "    <tr>\n",
       "      <th>4</th>\n",
       "      <td>11</td>\n",
       "      <td>NaN</td>\n",
       "      <td>NaN</td>\n",
       "      <td>Typhoon Soudelor kills 28 in China and Taiwan</td>\n",
       "    </tr>\n",
       "  </tbody>\n",
       "</table>\n",
       "</div>"
      ],
      "text/plain": [
       "   id keyword location                                               text\n",
       "0   0     NaN      NaN                 Just happened a terrible car crash\n",
       "1   2     NaN      NaN  Heard about #earthquake is different cities, s...\n",
       "2   3     NaN      NaN  there is a forest fire at spot pond, geese are...\n",
       "3   9     NaN      NaN           Apocalypse lighting. #Spokane #wildfires\n",
       "4  11     NaN      NaN      Typhoon Soudelor kills 28 in China and Taiwan"
      ]
     },
     "execution_count": 159,
     "metadata": {},
     "output_type": "execute_result"
    }
   ],
   "source": [
    "test.head()"
   ]
  },
  {
   "cell_type": "code",
   "execution_count": 160,
   "id": "c1383ad1",
   "metadata": {},
   "outputs": [
    {
     "name": "stdout",
     "output_type": "stream",
     "text": [
      "Size of Training Data: 7613\n",
      "Size of Testing Data: 3263\n"
     ]
    }
   ],
   "source": [
    "print(f'Size of Training Data: {train.shape[0]}')\n",
    "print(f'Size of Testing Data: {test.shape[0]}')"
   ]
  },
  {
   "cell_type": "code",
   "execution_count": 161,
   "id": "3adc311d",
   "metadata": {},
   "outputs": [
    {
     "name": "stdout",
     "output_type": "stream",
     "text": [
      "Percentage split of training and Testing: 0.6999816108863552 Training, 0.3000183891136447 Testing.\n"
     ]
    }
   ],
   "source": [
    "total = (test.shape[0] + train.shape[0])\n",
    "test_per = test.shape[0] / total\n",
    "train_per = train.shape[0] / total\n",
    "print(f'Percentage split of training and Testing: {train_per} Training, {test_per} Testing.')"
   ]
  },
  {
   "cell_type": "markdown",
   "id": "eab6498c",
   "metadata": {},
   "source": [
    "We have a 70/30 split for training/testing data. \n"
   ]
  },
  {
   "cell_type": "markdown",
   "id": "0e2a9a2b",
   "metadata": {},
   "source": [
    "Next, lets look at a breakdown of the split of target values in the training set.\n",
    "\n",
    "0 is for not a real disaster, 1 is for real disaster."
   ]
  },
  {
   "cell_type": "code",
   "execution_count": 162,
   "id": "e75316d2",
   "metadata": {},
   "outputs": [
    {
     "name": "stderr",
     "output_type": "stream",
     "text": [
      "C:\\anaconda3\\envs\\tensorflow\\lib\\site-packages\\seaborn\\_decorators.py:36: FutureWarning: Pass the following variables as keyword args: x, y. From version 0.12, the only valid positional argument will be `data`, and passing other arguments without an explicit keyword will result in an error or misinterpretation.\n",
      "  warnings.warn(\n"
     ]
    },
    {
     "data": {
      "text/plain": [
       "<AxesSubplot:ylabel='target'>"
      ]
     },
     "execution_count": 162,
     "metadata": {},
     "output_type": "execute_result"
    },
    {
     "data": {
      "image/png": "[encoded data removed]",
      "text/plain": [
       "<Figure size 432x288 with 1 Axes>"
      ]
     },
     "metadata": {
      "needs_background": "light"
     },
     "output_type": "display_data"
    }
   ],
   "source": [
    "OneorZero = train.target.value_counts()\n",
    "sns.barplot(OneorZero.index, OneorZero)"
   ]
  },
  {
   "cell_type": "code",
   "execution_count": 163,
   "id": "1b04d716",
   "metadata": {},
   "outputs": [
    {
     "data": {
      "text/plain": [
       "id             0\n",
       "keyword       61\n",
       "location    2533\n",
       "text           0\n",
       "target         0\n",
       "dtype: int64"
      ]
     },
     "execution_count": 163,
     "metadata": {},
     "output_type": "execute_result"
    }
   ],
   "source": [
    "train.isnull().sum()"
   ]
  },
  {
   "cell_type": "markdown",
   "id": "b9da35dc",
   "metadata": {},
   "source": [
    "Looking at the breakdown of Null values in the training dataset, we are not going to use location as a feature in the NN, it has too many null values to be of any real use.\n",
    "\n",
    "So we are going to remove all the features except text and target in the training data, as these are really the only features we are intersted in. We don't need ID as this does not correspond to the id in the testing data, it is just the id for the training data.\n",
    "\n",
    "For the testing data, we only want to keep the id and text features."
   ]
  },
  {
   "cell_type": "code",
   "execution_count": 164,
   "id": "dd5ed7b3",
   "metadata": {},
   "outputs": [
    {
     "data": {
      "text/html": [
       "<div>\n",
       "<style scoped>\n",
       "    .dataframe tbody tr th:only-of-type {\n",
       "        vertical-align: middle;\n",
       "    }\n",
       "\n",
       "    .dataframe tbody tr th {\n",
       "        vertical-align: top;\n",
       "    }\n",
       "\n",
       "    .dataframe thead th {\n",
       "        text-align: right;\n",
       "    }\n",
       "</style>\n",
       "<table border=\"1\" class=\"dataframe\">\n",
       "  <thead>\n",
       "    <tr style=\"text-align: right;\">\n",
       "      <th></th>\n",
       "      <th>text</th>\n",
       "      <th>target</th>\n",
       "    </tr>\n",
       "  </thead>\n",
       "  <tbody>\n",
       "    <tr>\n",
       "      <th>0</th>\n",
       "      <td>Our Deeds are the Reason of this #earthquake M...</td>\n",
       "      <td>1</td>\n",
       "    </tr>\n",
       "    <tr>\n",
       "      <th>1</th>\n",
       "      <td>Forest fire near La Ronge Sask. Canada</td>\n",
       "      <td>1</td>\n",
       "    </tr>\n",
       "    <tr>\n",
       "      <th>2</th>\n",
       "      <td>All residents asked to 'shelter in place' are ...</td>\n",
       "      <td>1</td>\n",
       "    </tr>\n",
       "    <tr>\n",
       "      <th>3</th>\n",
       "      <td>13,000 people receive #wildfires evacuation or...</td>\n",
       "      <td>1</td>\n",
       "    </tr>\n",
       "    <tr>\n",
       "      <th>4</th>\n",
       "      <td>Just got sent this photo from Ruby #Alaska as ...</td>\n",
       "      <td>1</td>\n",
       "    </tr>\n",
       "  </tbody>\n",
       "</table>\n",
       "</div>"
      ],
      "text/plain": [
       "                                                text  target\n",
       "0  Our Deeds are the Reason of this #earthquake M...       1\n",
       "1             Forest fire near La Ronge Sask. Canada       1\n",
       "2  All residents asked to 'shelter in place' are ...       1\n",
       "3  13,000 people receive #wildfires evacuation or...       1\n",
       "4  Just got sent this photo from Ruby #Alaska as ...       1"
      ]
     },
     "execution_count": 164,
     "metadata": {},
     "output_type": "execute_result"
    }
   ],
   "source": [
    "train = train[['text', 'target']].copy()\n",
    "train.head()"
   ]
  },
  {
   "cell_type": "code",
   "execution_count": 165,
   "id": "ab36c99f",
   "metadata": {},
   "outputs": [
    {
     "data": {
      "text/html": [
       "<div>\n",
       "<style scoped>\n",
       "    .dataframe tbody tr th:only-of-type {\n",
       "        vertical-align: middle;\n",
       "    }\n",
       "\n",
       "    .dataframe tbody tr th {\n",
       "        vertical-align: top;\n",
       "    }\n",
       "\n",
       "    .dataframe thead th {\n",
       "        text-align: right;\n",
       "    }\n",
       "</style>\n",
       "<table border=\"1\" class=\"dataframe\">\n",
       "  <thead>\n",
       "    <tr style=\"text-align: right;\">\n",
       "      <th></th>\n",
       "      <th>id</th>\n",
       "      <th>text</th>\n",
       "    </tr>\n",
       "  </thead>\n",
       "  <tbody>\n",
       "    <tr>\n",
       "      <th>0</th>\n",
       "      <td>0</td>\n",
       "      <td>Just happened a terrible car crash</td>\n",
       "    </tr>\n",
       "    <tr>\n",
       "      <th>1</th>\n",
       "      <td>2</td>\n",
       "      <td>Heard about #earthquake is different cities, s...</td>\n",
       "    </tr>\n",
       "    <tr>\n",
       "      <th>2</th>\n",
       "      <td>3</td>\n",
       "      <td>there is a forest fire at spot pond, geese are...</td>\n",
       "    </tr>\n",
       "    <tr>\n",
       "      <th>3</th>\n",
       "      <td>9</td>\n",
       "      <td>Apocalypse lighting. #Spokane #wildfires</td>\n",
       "    </tr>\n",
       "    <tr>\n",
       "      <th>4</th>\n",
       "      <td>11</td>\n",
       "      <td>Typhoon Soudelor kills 28 in China and Taiwan</td>\n",
       "    </tr>\n",
       "  </tbody>\n",
       "</table>\n",
       "</div>"
      ],
      "text/plain": [
       "   id                                               text\n",
       "0   0                 Just happened a terrible car crash\n",
       "1   2  Heard about #earthquake is different cities, s...\n",
       "2   3  there is a forest fire at spot pond, geese are...\n",
       "3   9           Apocalypse lighting. #Spokane #wildfires\n",
       "4  11      Typhoon Soudelor kills 28 in China and Taiwan"
      ]
     },
     "execution_count": 165,
     "metadata": {},
     "output_type": "execute_result"
    }
   ],
   "source": [
    "test = test[['id', 'text']].copy()\n",
    "test.head()"
   ]
  },
  {
   "cell_type": "markdown",
   "id": "97dee290",
   "metadata": {},
   "source": [
    "I want to keep as much of the text the same as I can so, we are going to remove punctuation, URLs, emojis, and any non-ascii characters."
   ]
  },
  {
   "cell_type": "code",
   "execution_count": 166,
   "id": "53018581",
   "metadata": {},
   "outputs": [],
   "source": [
    "## Removing Punctuation\n",
    "def remove_punct(text):\n",
    "    temp = str.maketrans('', '', string.punctuation)\n",
    "    return text.translate(temp)\n",
    "\n",
    "## Removing URLs\n",
    "def remove_url(text):\n",
    "    text = re.sub(r\"https?:\\/\\/t.co\\/[A-Za-z0-9]+\",'',text)\n",
    "    return text\n",
    "\n",
    "## Removing Emojis\n",
    "def remove_emoji(text):\n",
    "    # Copied from Kaggle, this is the unicode for the emojis we want to remove.\n",
    "    emojis = re.compile(\"[\"\n",
    "                           u\"\\U0001F600-\\U0001F64F\"  # emoticons\n",
    "                           u\"\\U0001F300-\\U0001F5FF\"  # symbols & pictographs\n",
    "                           u\"\\U0001F680-\\U0001F6FF\"  # transport & map symbols\n",
    "                           u\"\\U0001F1E0-\\U0001F1FF\"  # flags (iOS)\n",
    "                           u\"\\U00002702-\\U000027B0\"\n",
    "                           u\"\\U000024C2-\\U0001F251\"\n",
    "                           \"]+\", flags=re.UNICODE)\n",
    "    \n",
    "    text = re.sub(emojis, '', text)\n",
    "    return text\n",
    "\n",
    "## Remove non-ascii characters\n",
    "def remove_non_ascii(text):\n",
    "    text = re.sub(r'[^\\x00-\\x7f]','', text)\n",
    "    text = text.lower()\n",
    "    return text"
   ]
  },
  {
   "cell_type": "code",
   "execution_count": 167,
   "id": "59b173bb",
   "metadata": {},
   "outputs": [
    {
     "data": {
      "text/html": [
       "<div>\n",
       "<style scoped>\n",
       "    .dataframe tbody tr th:only-of-type {\n",
       "        vertical-align: middle;\n",
       "    }\n",
       "\n",
       "    .dataframe tbody tr th {\n",
       "        vertical-align: top;\n",
       "    }\n",
       "\n",
       "    .dataframe thead th {\n",
       "        text-align: right;\n",
       "    }\n",
       "</style>\n",
       "<table border=\"1\" class=\"dataframe\">\n",
       "  <thead>\n",
       "    <tr style=\"text-align: right;\">\n",
       "      <th></th>\n",
       "      <th>text</th>\n",
       "      <th>target</th>\n",
       "      <th>cleaned_text</th>\n",
       "    </tr>\n",
       "  </thead>\n",
       "  <tbody>\n",
       "    <tr>\n",
       "      <th>0</th>\n",
       "      <td>Our Deeds are the Reason of this #earthquake M...</td>\n",
       "      <td>1</td>\n",
       "      <td>our deeds are the reason of this earthquake ma...</td>\n",
       "    </tr>\n",
       "    <tr>\n",
       "      <th>1</th>\n",
       "      <td>Forest fire near La Ronge Sask. Canada</td>\n",
       "      <td>1</td>\n",
       "      <td>forest fire near la ronge sask canada</td>\n",
       "    </tr>\n",
       "    <tr>\n",
       "      <th>2</th>\n",
       "      <td>All residents asked to 'shelter in place' are ...</td>\n",
       "      <td>1</td>\n",
       "      <td>all residents asked to shelter in place are be...</td>\n",
       "    </tr>\n",
       "    <tr>\n",
       "      <th>3</th>\n",
       "      <td>13,000 people receive #wildfires evacuation or...</td>\n",
       "      <td>1</td>\n",
       "      <td>13000 people receive wildfires evacuation orde...</td>\n",
       "    </tr>\n",
       "    <tr>\n",
       "      <th>4</th>\n",
       "      <td>Just got sent this photo from Ruby #Alaska as ...</td>\n",
       "      <td>1</td>\n",
       "      <td>just got sent this photo from ruby alaska as s...</td>\n",
       "    </tr>\n",
       "  </tbody>\n",
       "</table>\n",
       "</div>"
      ],
      "text/plain": [
       "                                                text  target  \\\n",
       "0  Our Deeds are the Reason of this #earthquake M...       1   \n",
       "1             Forest fire near La Ronge Sask. Canada       1   \n",
       "2  All residents asked to 'shelter in place' are ...       1   \n",
       "3  13,000 people receive #wildfires evacuation or...       1   \n",
       "4  Just got sent this photo from Ruby #Alaska as ...       1   \n",
       "\n",
       "                                        cleaned_text  \n",
       "0  our deeds are the reason of this earthquake ma...  \n",
       "1              forest fire near la ronge sask canada  \n",
       "2  all residents asked to shelter in place are be...  \n",
       "3  13000 people receive wildfires evacuation orde...  \n",
       "4  just got sent this photo from ruby alaska as s...  "
      ]
     },
     "execution_count": 167,
     "metadata": {},
     "output_type": "execute_result"
    }
   ],
   "source": [
    "# Run the functions on the training data\n",
    "train['cleaned_text'] = train['text'].apply(lambda x : remove_punct(x))\n",
    "train['cleaned_text'] = train['cleaned_text'].apply(lambda x : remove_url(x))\n",
    "train['cleaned_text'] = train['cleaned_text'].apply(lambda x : remove_emoji(x))\n",
    "train['cleaned_text'] = train['cleaned_text'].apply(lambda x : remove_non_ascii(x))\n",
    "\n",
    "train.head()"
   ]
  },
  {
   "cell_type": "code",
   "execution_count": 168,
   "id": "077d181f",
   "metadata": {},
   "outputs": [
    {
     "data": {
      "text/html": [
       "<div>\n",
       "<style scoped>\n",
       "    .dataframe tbody tr th:only-of-type {\n",
       "        vertical-align: middle;\n",
       "    }\n",
       "\n",
       "    .dataframe tbody tr th {\n",
       "        vertical-align: top;\n",
       "    }\n",
       "\n",
       "    .dataframe thead th {\n",
       "        text-align: right;\n",
       "    }\n",
       "</style>\n",
       "<table border=\"1\" class=\"dataframe\">\n",
       "  <thead>\n",
       "    <tr style=\"text-align: right;\">\n",
       "      <th></th>\n",
       "      <th>id</th>\n",
       "      <th>text</th>\n",
       "      <th>cleaned_text</th>\n",
       "    </tr>\n",
       "  </thead>\n",
       "  <tbody>\n",
       "    <tr>\n",
       "      <th>0</th>\n",
       "      <td>0</td>\n",
       "      <td>Just happened a terrible car crash</td>\n",
       "      <td>just happened a terrible car crash</td>\n",
       "    </tr>\n",
       "    <tr>\n",
       "      <th>1</th>\n",
       "      <td>2</td>\n",
       "      <td>Heard about #earthquake is different cities, s...</td>\n",
       "      <td>heard about earthquake is different cities sta...</td>\n",
       "    </tr>\n",
       "    <tr>\n",
       "      <th>2</th>\n",
       "      <td>3</td>\n",
       "      <td>there is a forest fire at spot pond, geese are...</td>\n",
       "      <td>there is a forest fire at spot pond geese are ...</td>\n",
       "    </tr>\n",
       "    <tr>\n",
       "      <th>3</th>\n",
       "      <td>9</td>\n",
       "      <td>Apocalypse lighting. #Spokane #wildfires</td>\n",
       "      <td>apocalypse lighting spokane wildfires</td>\n",
       "    </tr>\n",
       "    <tr>\n",
       "      <th>4</th>\n",
       "      <td>11</td>\n",
       "      <td>Typhoon Soudelor kills 28 in China and Taiwan</td>\n",
       "      <td>typhoon soudelor kills 28 in china and taiwan</td>\n",
       "    </tr>\n",
       "  </tbody>\n",
       "</table>\n",
       "</div>"
      ],
      "text/plain": [
       "   id                                               text  \\\n",
       "0   0                 Just happened a terrible car crash   \n",
       "1   2  Heard about #earthquake is different cities, s...   \n",
       "2   3  there is a forest fire at spot pond, geese are...   \n",
       "3   9           Apocalypse lighting. #Spokane #wildfires   \n",
       "4  11      Typhoon Soudelor kills 28 in China and Taiwan   \n",
       "\n",
       "                                        cleaned_text  \n",
       "0                 just happened a terrible car crash  \n",
       "1  heard about earthquake is different cities sta...  \n",
       "2  there is a forest fire at spot pond geese are ...  \n",
       "3              apocalypse lighting spokane wildfires  \n",
       "4      typhoon soudelor kills 28 in china and taiwan  "
      ]
     },
     "execution_count": 168,
     "metadata": {},
     "output_type": "execute_result"
    }
   ],
   "source": [
    "#Run the functions on the testing data\n",
    "test['cleaned_text'] = test['text'].apply(lambda x : remove_punct(x))\n",
    "test['cleaned_text'] = test['cleaned_text'].apply(lambda x : remove_url(x))\n",
    "test['cleaned_text'] = test['cleaned_text'].apply(lambda x : remove_emoji(x))\n",
    "test['cleaned_text'] = test['cleaned_text'].apply(lambda x : remove_non_ascii(x))\n",
    "\n",
    "test.head()"
   ]
  },
  {
   "cell_type": "markdown",
   "id": "79d4f8aa",
   "metadata": {},
   "source": [
    "Next, we are going to be doing the very important work of making the text compatable with our models. First we are going to create a Corpus, which is just a fancy way of saying a large body of text."
   ]
  },
  {
   "cell_type": "code",
   "execution_count": 89,
   "id": "10038aaa",
   "metadata": {},
   "outputs": [
    {
     "name": "stderr",
     "output_type": "stream",
     "text": [
      "100%|███████████████████████████████████████████████████████████████████████████| 7613/7613 [00:00<00:00, 12773.55it/s]\n"
     ]
    }
   ],
   "source": [
    "# Creating Words Corpus\n",
    "stop = set(stopwords.words('english'))\n",
    "def create_corpus(dataset):\n",
    "    corpus = []\n",
    "    for review in tqdm(dataset['cleaned_text']):\n",
    "        words = [ word.lower() for word in word_tokenize(review) if (word.isalpha() == 1 ) & (word not in stop) ]\n",
    "        corpus.append(words)\n",
    "    return corpus\n",
    "\n",
    "corpus = create_corpus(train)"
   ]
  },
  {
   "cell_type": "markdown",
   "id": "fe0352c8",
   "metadata": {},
   "source": [
    "After createing the Corpus, we are going to create a embedding dictionary. This will make inputing the data into the NN much easier.\n",
    "\n",
    "\"Instead, in an embedding, words are represented by dense vectors where a vector represents the projection of the word into a continuous vector space.\n",
    "The position of a word within the vector space is learned from text and is based on the words that surround the word when it is used.\n",
    "The position of a word in the learned vector space is referred to as its embedding.\" - machinelearningmastery.com\n",
    "\n",
    "We are going to use Stanford's GloVe 100d word embeddings to create the dictionary."
   ]
  },
  {
   "cell_type": "code",
   "execution_count": 91,
   "id": "0282b0a4",
   "metadata": {},
   "outputs": [],
   "source": [
    "# Creating Embedding Dictionary\n",
    "\n",
    "embedding_dict={}\n",
    "with open('../NLPDisasterTweets/glove.6B.100d.txt','r', encoding='utf8') as f:\n",
    "    for line in f:\n",
    "        values=line.split()\n",
    "        word=values[0]\n",
    "        vectors=np.asarray(values[1:],'float32')\n",
    "        embedding_dict[word]=vectors\n",
    "f.close()"
   ]
  },
  {
   "cell_type": "code",
   "execution_count": 92,
   "id": "ed18a32f",
   "metadata": {},
   "outputs": [],
   "source": [
    "# Tokenize : break the sentence into single word/token\n",
    "# texts_to_sequences : convert tokenized word into an encoded sequnce\n",
    "# pad_sequence : change the length of sequence by either adding or truncating\n",
    "\n",
    "MAX_LEN = 20 \n",
    "tokenizer = Tokenizer()\n",
    "tokenizer.fit_on_texts(corpus)\n",
    "sequences = tokenizer.texts_to_sequences(corpus)\n",
    "corpus_pad = pad_sequences(sequences, maxlen=MAX_LEN, truncating='post', padding='post')"
   ]
  },
  {
   "cell_type": "code",
   "execution_count": 93,
   "id": "1fd7098e",
   "metadata": {},
   "outputs": [
    {
     "name": "stdout",
     "output_type": "stream",
     "text": [
      "Number of unique words : 16983\n"
     ]
    }
   ],
   "source": [
    "# Unique words present\n",
    "word_index = tokenizer.word_index\n",
    "print(f\"Number of unique words : {len(word_index)}\")"
   ]
  },
  {
   "cell_type": "code",
   "execution_count": 94,
   "id": "070c1dcd",
   "metadata": {},
   "outputs": [
    {
     "name": "stderr",
     "output_type": "stream",
     "text": [
      "100%|████████████████████████████████████████████████████████████████████████| 16983/16983 [00:00<00:00, 629001.16it/s]\n"
     ]
    }
   ],
   "source": [
    "# Creating embedding matrix with GloVe using enbedding_dict we created above\n",
    "num_words=len(word_index)+1\n",
    "embedding_matrix=np.zeros((num_words,100))\n",
    "\n",
    "for word,i in tqdm(word_index.items()):\n",
    "    if i > num_words:\n",
    "        continue\n",
    "    \n",
    "    emb_vec=embedding_dict.get(word)\n",
    "    if emb_vec is not None:\n",
    "        embedding_matrix[i]=emb_vec"
   ]
  },
  {
   "cell_type": "markdown",
   "id": "769f0f21",
   "metadata": {},
   "source": [
    "Now we are going to split up the new corpus into training and testing sets for our models."
   ]
  },
  {
   "cell_type": "code",
   "execution_count": 177,
   "id": "0a83b51a",
   "metadata": {},
   "outputs": [
    {
     "name": "stdout",
     "output_type": "stream",
     "text": [
      "Shape of x_train (5709, 20)\n",
      "Shape of x_test  (1904, 20)\n",
      "Shape of y_train (5709,)\n",
      "Shape of y_test  (1904,)\n"
     ]
    }
   ],
   "source": [
    "X_train,X_test,y_train,y_test = train_test_split(corpus_pad, train['target'].values, test_size = 0.25, random_state = 0 )\n",
    "\n",
    "print('Shape of x_train',X_train.shape)\n",
    "print(\"Shape of x_test \",X_test.shape)\n",
    "\n",
    "print('Shape of y_train',y_train.shape)\n",
    "print(\"Shape of y_test \",y_test.shape)"
   ]
  },
  {
   "cell_type": "markdown",
   "id": "bdfe4346",
   "metadata": {},
   "source": [
    "### LSTM "
   ]
  },
  {
   "cell_type": "code",
   "execution_count": 146,
   "id": "5ec4d7b3",
   "metadata": {},
   "outputs": [
    {
     "name": "stdout",
     "output_type": "stream",
     "text": [
      "Model: \"LSTM\"\n",
      "_________________________________________________________________\n",
      " Layer (type)                Output Shape              Param #   \n",
      "=================================================================\n",
      " embedding_24 (Embedding)    (None, 20, 100)           1698400   \n",
      "                                                                 \n",
      " spatial_dropout1d_14 (Spati  (None, 20, 100)          0         \n",
      " alDropout1D)                                                    \n",
      "                                                                 \n",
      " lstm_44 (LSTM)              (None, 20, 64)            42240     \n",
      "                                                                 \n",
      " dropout_47 (Dropout)        (None, 20, 64)            0         \n",
      "                                                                 \n",
      " lstm_45 (LSTM)              (None, 32)                12416     \n",
      "                                                                 \n",
      " dropout_48 (Dropout)        (None, 32)                0         \n",
      "                                                                 \n",
      " dense_55 (Dense)            (None, 16)                528       \n",
      "                                                                 \n",
      " dense_56 (Dense)            (None, 1)                 17        \n",
      "                                                                 \n",
      "=================================================================\n",
      "Total params: 1,753,601\n",
      "Trainable params: 55,201\n",
      "Non-trainable params: 1,698,400\n",
      "_________________________________________________________________\n"
     ]
    }
   ],
   "source": [
    "model_lstm = Sequential(name='LSTM')\n",
    "embedding=Embedding(num_words,100,\n",
    "                    embeddings_initializer=Constant(embedding_matrix),\n",
    "                    input_length=MAX_LEN,\n",
    "                    trainable=False)\n",
    "# Adding Embedding Layer\n",
    "model_lstm.add(embedding)\n",
    "model_lstm.add(SpatialDropout1D(0.4))\n",
    "model_lstm.add((LSTM(64, return_sequences = True, recurrent_dropout=0.0, kernel_regularizer = L1L2(l1=0.0, l2=0.01))))\n",
    "model_lstm.add(Dropout(0.5))\n",
    "model_lstm.add((LSTM(32, return_sequences = False, recurrent_dropout=0.0, kernel_regularizer = L1L2(l1=0.0, l2=0.01))))\n",
    "model_lstm.add(Dropout(0.4))\n",
    "model_lstm.add(Dense(16, activation='relu'))\n",
    "model_lstm.add(Dense(1, activation='sigmoid'))\n",
    "\n",
    "model_lstm.compile(optimizer = Adam(learning_rate=0.001), loss='binary_crossentropy', metrics=['accuracy'])\n",
    "model_lstm.summary()"
   ]
  },
  {
   "cell_type": "code",
   "execution_count": 148,
   "id": "4de58432",
   "metadata": {
    "scrolled": false
   },
   "outputs": [
    {
     "name": "stdout",
     "output_type": "stream",
     "text": [
      "Epoch 1/30\n",
      "179/179 - 4s - loss: 1.2028 - accuracy: 0.7362 - val_loss: 0.5946 - val_accuracy: 0.7941 - 4s/epoch - 20ms/step\n",
      "Epoch 2/30\n",
      "179/179 - 1s - loss: 0.5619 - accuracy: 0.7793 - val_loss: 0.5101 - val_accuracy: 0.7952 - 937ms/epoch - 5ms/step\n",
      "Epoch 3/30\n",
      "179/179 - 1s - loss: 0.5362 - accuracy: 0.7772 - val_loss: 0.5021 - val_accuracy: 0.7915 - 929ms/epoch - 5ms/step\n",
      "Epoch 4/30\n",
      "179/179 - 1s - loss: 0.5130 - accuracy: 0.7814 - val_loss: 0.5079 - val_accuracy: 0.7847 - 942ms/epoch - 5ms/step\n",
      "Epoch 5/30\n",
      "179/179 - 1s - loss: 0.5139 - accuracy: 0.7754 - val_loss: 0.4780 - val_accuracy: 0.7946 - 917ms/epoch - 5ms/step\n",
      "Epoch 6/30\n",
      "179/179 - 1s - loss: 0.5060 - accuracy: 0.7751 - val_loss: 0.4776 - val_accuracy: 0.7957 - 960ms/epoch - 5ms/step\n",
      "Epoch 7/30\n",
      "179/179 - 1s - loss: 0.5084 - accuracy: 0.7763 - val_loss: 0.4810 - val_accuracy: 0.7978 - 928ms/epoch - 5ms/step\n",
      "Epoch 8/30\n",
      "179/179 - 1s - loss: 0.5037 - accuracy: 0.7763 - val_loss: 0.4784 - val_accuracy: 0.7936 - 905ms/epoch - 5ms/step\n",
      "Epoch 9/30\n",
      "179/179 - 1s - loss: 0.5054 - accuracy: 0.7823 - val_loss: 0.4779 - val_accuracy: 0.7915 - 931ms/epoch - 5ms/step\n",
      "Epoch 10/30\n",
      "179/179 - 1s - loss: 0.4980 - accuracy: 0.7795 - val_loss: 0.4799 - val_accuracy: 0.7983 - 924ms/epoch - 5ms/step\n",
      "Epoch 11/30\n",
      "179/179 - 1s - loss: 0.4971 - accuracy: 0.7828 - val_loss: 0.4801 - val_accuracy: 0.7983 - 920ms/epoch - 5ms/step\n",
      "Epoch 12/30\n",
      "179/179 - 1s - loss: 0.4944 - accuracy: 0.7854 - val_loss: 0.4772 - val_accuracy: 0.7889 - 974ms/epoch - 5ms/step\n",
      "Epoch 13/30\n",
      "179/179 - 1s - loss: 0.4962 - accuracy: 0.7800 - val_loss: 0.4820 - val_accuracy: 0.7983 - 934ms/epoch - 5ms/step\n",
      "Epoch 14/30\n",
      "179/179 - 1s - loss: 0.4953 - accuracy: 0.7853 - val_loss: 0.4812 - val_accuracy: 0.7883 - 915ms/epoch - 5ms/step\n",
      "Epoch 15/30\n",
      "179/179 - 1s - loss: 0.4898 - accuracy: 0.7847 - val_loss: 0.4672 - val_accuracy: 0.7988 - 924ms/epoch - 5ms/step\n",
      "Epoch 16/30\n",
      "179/179 - 1s - loss: 0.4957 - accuracy: 0.7802 - val_loss: 0.4854 - val_accuracy: 0.7994 - 918ms/epoch - 5ms/step\n",
      "Epoch 17/30\n",
      "179/179 - 1s - loss: 0.4827 - accuracy: 0.7909 - val_loss: 0.4697 - val_accuracy: 0.8009 - 930ms/epoch - 5ms/step\n",
      "Epoch 18/30\n",
      "179/179 - 1s - loss: 0.4895 - accuracy: 0.7879 - val_loss: 0.4733 - val_accuracy: 0.7957 - 962ms/epoch - 5ms/step\n",
      "Epoch 19/30\n",
      "179/179 - 1s - loss: 0.4893 - accuracy: 0.7858 - val_loss: 0.4791 - val_accuracy: 0.7931 - 929ms/epoch - 5ms/step\n",
      "Epoch 20/30\n",
      "179/179 - 1s - loss: 0.4836 - accuracy: 0.7840 - val_loss: 0.4851 - val_accuracy: 0.7957 - 912ms/epoch - 5ms/step\n",
      "Epoch 21/30\n",
      "179/179 - 1s - loss: 0.4870 - accuracy: 0.7851 - val_loss: 0.4720 - val_accuracy: 0.7894 - 918ms/epoch - 5ms/step\n",
      "Epoch 22/30\n",
      "179/179 - 1s - loss: 0.4876 - accuracy: 0.7882 - val_loss: 0.4735 - val_accuracy: 0.7962 - 967ms/epoch - 5ms/step\n",
      "Epoch 23/30\n",
      "179/179 - 1s - loss: 0.4856 - accuracy: 0.7888 - val_loss: 0.4606 - val_accuracy: 0.8062 - 910ms/epoch - 5ms/step\n",
      "Epoch 24/30\n",
      "179/179 - 1s - loss: 0.4870 - accuracy: 0.7831 - val_loss: 0.4628 - val_accuracy: 0.8046 - 868ms/epoch - 5ms/step\n",
      "Epoch 25/30\n",
      "179/179 - 1s - loss: 0.4831 - accuracy: 0.7895 - val_loss: 0.4682 - val_accuracy: 0.8088 - 843ms/epoch - 5ms/step\n",
      "Epoch 26/30\n",
      "179/179 - 1s - loss: 0.4822 - accuracy: 0.7926 - val_loss: 0.4791 - val_accuracy: 0.7899 - 948ms/epoch - 5ms/step\n",
      "Epoch 27/30\n",
      "179/179 - 1s - loss: 0.4858 - accuracy: 0.7860 - val_loss: 0.4602 - val_accuracy: 0.8025 - 892ms/epoch - 5ms/step\n",
      "Epoch 28/30\n",
      "179/179 - 1s - loss: 0.4776 - accuracy: 0.7926 - val_loss: 0.4601 - val_accuracy: 0.8046 - 889ms/epoch - 5ms/step\n",
      "Epoch 29/30\n",
      "179/179 - 1s - loss: 0.4851 - accuracy: 0.7891 - val_loss: 0.4637 - val_accuracy: 0.7999 - 896ms/epoch - 5ms/step\n",
      "Epoch 30/30\n",
      "179/179 - 1s - loss: 0.4811 - accuracy: 0.7893 - val_loss: 0.4598 - val_accuracy: 0.7978 - 913ms/epoch - 5ms/step\n"
     ]
    }
   ],
   "source": [
    "history=model_lstm.fit(X_train,y_train,batch_size=32,epochs=30,validation_data=(X_test,y_test),verbose=2)"
   ]
  },
  {
   "cell_type": "code",
   "execution_count": 149,
   "id": "e0bc44b0",
   "metadata": {},
   "outputs": [
    {
     "data": {
      "text/html": [
       "<div>\n",
       "<style scoped>\n",
       "    .dataframe tbody tr th:only-of-type {\n",
       "        vertical-align: middle;\n",
       "    }\n",
       "\n",
       "    .dataframe tbody tr th {\n",
       "        vertical-align: top;\n",
       "    }\n",
       "\n",
       "    .dataframe thead th {\n",
       "        text-align: right;\n",
       "    }\n",
       "</style>\n",
       "<table border=\"1\" class=\"dataframe\">\n",
       "  <thead>\n",
       "    <tr style=\"text-align: right;\">\n",
       "      <th></th>\n",
       "      <th>loss</th>\n",
       "      <th>accuracy</th>\n",
       "      <th>val_loss</th>\n",
       "      <th>val_accuracy</th>\n",
       "    </tr>\n",
       "  </thead>\n",
       "  <tbody>\n",
       "    <tr>\n",
       "      <th>0</th>\n",
       "      <td>1.202807</td>\n",
       "      <td>0.736206</td>\n",
       "      <td>0.594620</td>\n",
       "      <td>0.794118</td>\n",
       "    </tr>\n",
       "    <tr>\n",
       "      <th>1</th>\n",
       "      <td>0.561916</td>\n",
       "      <td>0.779296</td>\n",
       "      <td>0.510080</td>\n",
       "      <td>0.795168</td>\n",
       "    </tr>\n",
       "    <tr>\n",
       "      <th>2</th>\n",
       "      <td>0.536216</td>\n",
       "      <td>0.777194</td>\n",
       "      <td>0.502133</td>\n",
       "      <td>0.791492</td>\n",
       "    </tr>\n",
       "    <tr>\n",
       "      <th>3</th>\n",
       "      <td>0.513033</td>\n",
       "      <td>0.781398</td>\n",
       "      <td>0.507918</td>\n",
       "      <td>0.784664</td>\n",
       "    </tr>\n",
       "    <tr>\n",
       "      <th>4</th>\n",
       "      <td>0.513934</td>\n",
       "      <td>0.775442</td>\n",
       "      <td>0.478024</td>\n",
       "      <td>0.794643</td>\n",
       "    </tr>\n",
       "    <tr>\n",
       "      <th>5</th>\n",
       "      <td>0.505980</td>\n",
       "      <td>0.775092</td>\n",
       "      <td>0.477640</td>\n",
       "      <td>0.795693</td>\n",
       "    </tr>\n",
       "    <tr>\n",
       "      <th>6</th>\n",
       "      <td>0.508382</td>\n",
       "      <td>0.776318</td>\n",
       "      <td>0.480976</td>\n",
       "      <td>0.797794</td>\n",
       "    </tr>\n",
       "    <tr>\n",
       "      <th>7</th>\n",
       "      <td>0.503687</td>\n",
       "      <td>0.776318</td>\n",
       "      <td>0.478381</td>\n",
       "      <td>0.793592</td>\n",
       "    </tr>\n",
       "    <tr>\n",
       "      <th>8</th>\n",
       "      <td>0.505418</td>\n",
       "      <td>0.782274</td>\n",
       "      <td>0.477914</td>\n",
       "      <td>0.791492</td>\n",
       "    </tr>\n",
       "    <tr>\n",
       "      <th>9</th>\n",
       "      <td>0.498034</td>\n",
       "      <td>0.779471</td>\n",
       "      <td>0.479895</td>\n",
       "      <td>0.798319</td>\n",
       "    </tr>\n",
       "    <tr>\n",
       "      <th>10</th>\n",
       "      <td>0.497066</td>\n",
       "      <td>0.782799</td>\n",
       "      <td>0.480072</td>\n",
       "      <td>0.798319</td>\n",
       "    </tr>\n",
       "    <tr>\n",
       "      <th>11</th>\n",
       "      <td>0.494431</td>\n",
       "      <td>0.785426</td>\n",
       "      <td>0.477192</td>\n",
       "      <td>0.788866</td>\n",
       "    </tr>\n",
       "    <tr>\n",
       "      <th>12</th>\n",
       "      <td>0.496180</td>\n",
       "      <td>0.779997</td>\n",
       "      <td>0.482039</td>\n",
       "      <td>0.798319</td>\n",
       "    </tr>\n",
       "    <tr>\n",
       "      <th>13</th>\n",
       "      <td>0.495304</td>\n",
       "      <td>0.785251</td>\n",
       "      <td>0.481163</td>\n",
       "      <td>0.788340</td>\n",
       "    </tr>\n",
       "    <tr>\n",
       "      <th>14</th>\n",
       "      <td>0.489786</td>\n",
       "      <td>0.784726</td>\n",
       "      <td>0.467230</td>\n",
       "      <td>0.798845</td>\n",
       "    </tr>\n",
       "    <tr>\n",
       "      <th>15</th>\n",
       "      <td>0.495724</td>\n",
       "      <td>0.780172</td>\n",
       "      <td>0.485399</td>\n",
       "      <td>0.799370</td>\n",
       "    </tr>\n",
       "    <tr>\n",
       "      <th>16</th>\n",
       "      <td>0.482746</td>\n",
       "      <td>0.790857</td>\n",
       "      <td>0.469749</td>\n",
       "      <td>0.800945</td>\n",
       "    </tr>\n",
       "    <tr>\n",
       "      <th>17</th>\n",
       "      <td>0.489530</td>\n",
       "      <td>0.787879</td>\n",
       "      <td>0.473319</td>\n",
       "      <td>0.795693</td>\n",
       "    </tr>\n",
       "    <tr>\n",
       "      <th>18</th>\n",
       "      <td>0.489256</td>\n",
       "      <td>0.785777</td>\n",
       "      <td>0.479100</td>\n",
       "      <td>0.793067</td>\n",
       "    </tr>\n",
       "    <tr>\n",
       "      <th>19</th>\n",
       "      <td>0.483604</td>\n",
       "      <td>0.784025</td>\n",
       "      <td>0.485085</td>\n",
       "      <td>0.795693</td>\n",
       "    </tr>\n",
       "    <tr>\n",
       "      <th>20</th>\n",
       "      <td>0.487029</td>\n",
       "      <td>0.785076</td>\n",
       "      <td>0.472041</td>\n",
       "      <td>0.789391</td>\n",
       "    </tr>\n",
       "    <tr>\n",
       "      <th>21</th>\n",
       "      <td>0.487557</td>\n",
       "      <td>0.788229</td>\n",
       "      <td>0.473541</td>\n",
       "      <td>0.796219</td>\n",
       "    </tr>\n",
       "    <tr>\n",
       "      <th>22</th>\n",
       "      <td>0.485632</td>\n",
       "      <td>0.788755</td>\n",
       "      <td>0.460581</td>\n",
       "      <td>0.806197</td>\n",
       "    </tr>\n",
       "    <tr>\n",
       "      <th>23</th>\n",
       "      <td>0.486960</td>\n",
       "      <td>0.783149</td>\n",
       "      <td>0.462849</td>\n",
       "      <td>0.804622</td>\n",
       "    </tr>\n",
       "    <tr>\n",
       "      <th>24</th>\n",
       "      <td>0.483058</td>\n",
       "      <td>0.789455</td>\n",
       "      <td>0.468215</td>\n",
       "      <td>0.808824</td>\n",
       "    </tr>\n",
       "    <tr>\n",
       "      <th>25</th>\n",
       "      <td>0.482185</td>\n",
       "      <td>0.792608</td>\n",
       "      <td>0.479050</td>\n",
       "      <td>0.789916</td>\n",
       "    </tr>\n",
       "    <tr>\n",
       "      <th>26</th>\n",
       "      <td>0.485778</td>\n",
       "      <td>0.785952</td>\n",
       "      <td>0.460203</td>\n",
       "      <td>0.802521</td>\n",
       "    </tr>\n",
       "    <tr>\n",
       "      <th>27</th>\n",
       "      <td>0.477564</td>\n",
       "      <td>0.792608</td>\n",
       "      <td>0.460111</td>\n",
       "      <td>0.804622</td>\n",
       "    </tr>\n",
       "    <tr>\n",
       "      <th>28</th>\n",
       "      <td>0.485137</td>\n",
       "      <td>0.789105</td>\n",
       "      <td>0.463660</td>\n",
       "      <td>0.799895</td>\n",
       "    </tr>\n",
       "    <tr>\n",
       "      <th>29</th>\n",
       "      <td>0.481142</td>\n",
       "      <td>0.789280</td>\n",
       "      <td>0.459839</td>\n",
       "      <td>0.797794</td>\n",
       "    </tr>\n",
       "  </tbody>\n",
       "</table>\n",
       "</div>"
      ],
      "text/plain": [
       "        loss  accuracy  val_loss  val_accuracy\n",
       "0   1.202807  0.736206  0.594620      0.794118\n",
       "1   0.561916  0.779296  0.510080      0.795168\n",
       "2   0.536216  0.777194  0.502133      0.791492\n",
       "3   0.513033  0.781398  0.507918      0.784664\n",
       "4   0.513934  0.775442  0.478024      0.794643\n",
       "5   0.505980  0.775092  0.477640      0.795693\n",
       "6   0.508382  0.776318  0.480976      0.797794\n",
       "7   0.503687  0.776318  0.478381      0.793592\n",
       "8   0.505418  0.782274  0.477914      0.791492\n",
       "9   0.498034  0.779471  0.479895      0.798319\n",
       "10  0.497066  0.782799  0.480072      0.798319\n",
       "11  0.494431  0.785426  0.477192      0.788866\n",
       "12  0.496180  0.779997  0.482039      0.798319\n",
       "13  0.495304  0.785251  0.481163      0.788340\n",
       "14  0.489786  0.784726  0.467230      0.798845\n",
       "15  0.495724  0.780172  0.485399      0.799370\n",
       "16  0.482746  0.790857  0.469749      0.800945\n",
       "17  0.489530  0.787879  0.473319      0.795693\n",
       "18  0.489256  0.785777  0.479100      0.793067\n",
       "19  0.483604  0.784025  0.485085      0.795693\n",
       "20  0.487029  0.785076  0.472041      0.789391\n",
       "21  0.487557  0.788229  0.473541      0.796219\n",
       "22  0.485632  0.788755  0.460581      0.806197\n",
       "23  0.486960  0.783149  0.462849      0.804622\n",
       "24  0.483058  0.789455  0.468215      0.808824\n",
       "25  0.482185  0.792608  0.479050      0.789916\n",
       "26  0.485778  0.785952  0.460203      0.802521\n",
       "27  0.477564  0.792608  0.460111      0.804622\n",
       "28  0.485137  0.789105  0.463660      0.799895\n",
       "29  0.481142  0.789280  0.459839      0.797794"
      ]
     },
     "execution_count": 149,
     "metadata": {},
     "output_type": "execute_result"
    }
   ],
   "source": [
    "info_lstm = pd.DataFrame(history.history)\n",
    "info_lstm"
   ]
  },
  {
   "cell_type": "code",
   "execution_count": 150,
   "id": "9c91dc2b",
   "metadata": {},
   "outputs": [
    {
     "name": "stdout",
     "output_type": "stream",
     "text": [
      "Highest Accuracy: 0.7926081418991089\n",
      "Highest Validation Accuracy: 0.8088235259056091\n"
     ]
    }
   ],
   "source": [
    "print(f'Highest Accuracy: {max(info_lstm.accuracy)}')\n",
    "print(f'Highest Validation Accuracy: {max(info_lstm.val_accuracy)}')"
   ]
  },
  {
   "cell_type": "code",
   "execution_count": 151,
   "id": "34d8ab8f",
   "metadata": {},
   "outputs": [
    {
     "data": {
      "image/png": "[encoded data removed]",
      "text/plain": [
       "<Figure size 432x288 with 1 Axes>"
      ]
     },
     "metadata": {
      "needs_background": "light"
     },
     "output_type": "display_data"
    }
   ],
   "source": [
    "# Accuracy vs Epoch\n",
    "plt.title('LSTM - Accuracy')\n",
    "plt.plot(history.history['accuracy'], label='train')\n",
    "plt.plot(history.history['val_accuracy'], label='test')\n",
    "plt.legend()\n",
    "plt.show();"
   ]
  },
  {
   "cell_type": "code",
   "execution_count": 155,
   "id": "412bfdde",
   "metadata": {},
   "outputs": [
    {
     "data": {
      "image/png": "[encoded data removed]",
      "text/plain": [
       "<Figure size 432x288 with 1 Axes>"
      ]
     },
     "metadata": {
      "needs_background": "light"
     },
     "output_type": "display_data"
    }
   ],
   "source": [
    "# Loss vs Epoch\n",
    "# Visualize learning curve. Here learning curve is not ideal. It should be much smoother as it decreases.\n",
    "\n",
    "epoch_count = range(1, len(history.history['loss']) + 1)\n",
    "plt.plot(epoch_count, history.history['loss'], 'g--')\n",
    "plt.plot(epoch_count, history.history['val_loss'], 'b-')\n",
    "plt.legend(['Training Loss', 'Validation Loss'])\n",
    "plt.xlabel('Epoch')\n",
    "plt.ylabel('Loss')\n",
    "plt.show()"
   ]
  },
  {
   "cell_type": "markdown",
   "id": "50f8f72e",
   "metadata": {},
   "source": [
    "Looking at the information above, we can see that the LSTM model does a good job with the data. The highest accuracy and validation accuracy we get are 0.7926 and 0.8088, respectively. Looking at the accuracy graph, we can see that the model never really levels off, it jumps around a bit. The Loss graph does almost level out, once we get to the 10th epoch, it looks like the loss mostly levels out."
   ]
  },
  {
   "cell_type": "markdown",
   "id": "e2f3d753",
   "metadata": {},
   "source": [
    "### GRU\n",
    "\n",
    "Next, lets compare a GRU model to out LSTM model."
   ]
  },
  {
   "cell_type": "code",
   "execution_count": 142,
   "id": "12436edf",
   "metadata": {},
   "outputs": [
    {
     "name": "stdout",
     "output_type": "stream",
     "text": [
      "Model: \"GRU\"\n",
      "_________________________________________________________________\n",
      " Layer (type)                Output Shape              Param #   \n",
      "=================================================================\n",
      " embedding_23 (Embedding)    (None, 20, 100)           1698400   \n",
      "                                                                 \n",
      " spatial_dropout1d_13 (Spati  (None, 20, 100)          0         \n",
      " alDropout1D)                                                    \n",
      "                                                                 \n",
      " gru_8 (GRU)                 (None, 1)                 309       \n",
      "                                                                 \n",
      " dropout_46 (Dropout)        (None, 1)                 0         \n",
      "                                                                 \n",
      " dense_53 (Dense)            (None, 16)                32        \n",
      "                                                                 \n",
      " dense_54 (Dense)            (None, 1)                 17        \n",
      "                                                                 \n",
      "=================================================================\n",
      "Total params: 1,698,758\n",
      "Trainable params: 358\n",
      "Non-trainable params: 1,698,400\n",
      "_________________________________________________________________\n"
     ]
    }
   ],
   "source": [
    "model_gru = Sequential(name='GRU')\n",
    "embedding=Embedding(num_words,100,\n",
    "                    embeddings_initializer=Constant(embedding_matrix),\n",
    "                    input_length=MAX_LEN,\n",
    "                    trainable=False)\n",
    "# Adding Embedding Layer\n",
    "model_gru.add(embedding)\n",
    "model_gru.add(SpatialDropout1D(0.4))\n",
    "model_gru.add(GRU(1))\n",
    "model_gru.add(Dropout(0.5))\n",
    "model_gru.add(Dense(16, activation='relu'))\n",
    "model_gru.add(Dense(1, activation='sigmoid'))\n",
    "\n",
    "model_gru.compile(optimizer = Adam(learning_rate=0.001), loss='binary_crossentropy', metrics=['accuracy'])\n",
    "model_gru.summary()"
   ]
  },
  {
   "cell_type": "code",
   "execution_count": 143,
   "id": "b3485c40",
   "metadata": {},
   "outputs": [
    {
     "name": "stdout",
     "output_type": "stream",
     "text": [
      "Epoch 1/30\n",
      "179/179 - 2s - loss: 0.6888 - accuracy: 0.5628 - val_loss: 0.6831 - val_accuracy: 0.5814 - 2s/epoch - 10ms/step\n",
      "Epoch 2/30\n",
      "179/179 - 1s - loss: 0.6849 - accuracy: 0.5666 - val_loss: 0.6805 - val_accuracy: 0.5814 - 635ms/epoch - 4ms/step\n",
      "Epoch 3/30\n",
      "179/179 - 1s - loss: 0.6843 - accuracy: 0.5666 - val_loss: 0.6806 - val_accuracy: 0.5814 - 540ms/epoch - 3ms/step\n",
      "Epoch 4/30\n",
      "179/179 - 1s - loss: 0.6844 - accuracy: 0.5666 - val_loss: 0.6808 - val_accuracy: 0.5814 - 572ms/epoch - 3ms/step\n",
      "Epoch 5/30\n",
      "179/179 - 1s - loss: 0.6844 - accuracy: 0.5666 - val_loss: 0.6809 - val_accuracy: 0.5814 - 539ms/epoch - 3ms/step\n",
      "Epoch 6/30\n",
      "179/179 - 1s - loss: 0.6844 - accuracy: 0.5666 - val_loss: 0.6806 - val_accuracy: 0.5814 - 539ms/epoch - 3ms/step\n",
      "Epoch 7/30\n",
      "179/179 - 1s - loss: 0.6843 - accuracy: 0.5666 - val_loss: 0.6802 - val_accuracy: 0.5814 - 530ms/epoch - 3ms/step\n",
      "Epoch 8/30\n",
      "179/179 - 1s - loss: 0.6844 - accuracy: 0.5666 - val_loss: 0.6800 - val_accuracy: 0.5814 - 526ms/epoch - 3ms/step\n",
      "Epoch 9/30\n",
      "179/179 - 1s - loss: 0.6845 - accuracy: 0.5665 - val_loss: 0.6800 - val_accuracy: 0.5814 - 575ms/epoch - 3ms/step\n",
      "Epoch 10/30\n",
      "179/179 - 1s - loss: 0.6844 - accuracy: 0.5666 - val_loss: 0.6802 - val_accuracy: 0.5814 - 532ms/epoch - 3ms/step\n",
      "Epoch 11/30\n",
      "179/179 - 1s - loss: 0.6843 - accuracy: 0.5666 - val_loss: 0.6800 - val_accuracy: 0.5814 - 532ms/epoch - 3ms/step\n",
      "Epoch 12/30\n",
      "179/179 - 1s - loss: 0.6843 - accuracy: 0.5666 - val_loss: 0.6798 - val_accuracy: 0.5814 - 530ms/epoch - 3ms/step\n",
      "Epoch 13/30\n",
      "179/179 - 1s - loss: 0.6840 - accuracy: 0.5666 - val_loss: 0.6796 - val_accuracy: 0.5814 - 568ms/epoch - 3ms/step\n",
      "Epoch 14/30\n",
      "179/179 - 0s - loss: 0.6679 - accuracy: 0.5950 - val_loss: 0.5960 - val_accuracy: 0.7185 - 498ms/epoch - 3ms/step\n",
      "Epoch 15/30\n",
      "179/179 - 1s - loss: 0.6306 - accuracy: 0.6407 - val_loss: 0.5592 - val_accuracy: 0.7658 - 549ms/epoch - 3ms/step\n",
      "Epoch 16/30\n",
      "179/179 - 1s - loss: 0.6092 - accuracy: 0.6551 - val_loss: 0.5345 - val_accuracy: 0.7673 - 566ms/epoch - 3ms/step\n",
      "Epoch 17/30\n",
      "179/179 - 1s - loss: 0.6124 - accuracy: 0.6551 - val_loss: 0.5307 - val_accuracy: 0.7715 - 519ms/epoch - 3ms/step\n",
      "Epoch 18/30\n",
      "179/179 - 1s - loss: 0.5984 - accuracy: 0.6618 - val_loss: 0.5262 - val_accuracy: 0.7705 - 508ms/epoch - 3ms/step\n",
      "Epoch 19/30\n",
      "179/179 - 1s - loss: 0.5970 - accuracy: 0.6618 - val_loss: 0.5149 - val_accuracy: 0.7726 - 558ms/epoch - 3ms/step\n",
      "Epoch 20/30\n",
      "179/179 - 0s - loss: 0.5905 - accuracy: 0.6691 - val_loss: 0.5104 - val_accuracy: 0.7810 - 490ms/epoch - 3ms/step\n",
      "Epoch 21/30\n",
      "179/179 - 1s - loss: 0.5869 - accuracy: 0.6747 - val_loss: 0.5045 - val_accuracy: 0.7757 - 549ms/epoch - 3ms/step\n",
      "Epoch 22/30\n",
      "179/179 - 1s - loss: 0.5835 - accuracy: 0.6760 - val_loss: 0.5009 - val_accuracy: 0.7857 - 518ms/epoch - 3ms/step\n",
      "Epoch 23/30\n",
      "179/179 - 1s - loss: 0.5923 - accuracy: 0.6689 - val_loss: 0.5047 - val_accuracy: 0.7820 - 522ms/epoch - 3ms/step\n",
      "Epoch 24/30\n",
      "179/179 - 0s - loss: 0.5812 - accuracy: 0.6767 - val_loss: 0.4974 - val_accuracy: 0.7873 - 495ms/epoch - 3ms/step\n",
      "Epoch 25/30\n",
      "179/179 - 1s - loss: 0.5786 - accuracy: 0.6760 - val_loss: 0.5001 - val_accuracy: 0.7747 - 583ms/epoch - 3ms/step\n",
      "Epoch 26/30\n",
      "179/179 - 0s - loss: 0.5856 - accuracy: 0.6728 - val_loss: 0.4976 - val_accuracy: 0.7831 - 495ms/epoch - 3ms/step\n",
      "Epoch 27/30\n",
      "179/179 - 0s - loss: 0.5867 - accuracy: 0.6646 - val_loss: 0.4933 - val_accuracy: 0.7894 - 495ms/epoch - 3ms/step\n",
      "Epoch 28/30\n",
      "179/179 - 0s - loss: 0.5799 - accuracy: 0.6765 - val_loss: 0.4978 - val_accuracy: 0.7894 - 497ms/epoch - 3ms/step\n",
      "Epoch 29/30\n",
      "179/179 - 1s - loss: 0.5775 - accuracy: 0.6807 - val_loss: 0.4951 - val_accuracy: 0.7883 - 587ms/epoch - 3ms/step\n",
      "Epoch 30/30\n",
      "179/179 - 1s - loss: 0.5818 - accuracy: 0.6712 - val_loss: 0.4947 - val_accuracy: 0.7920 - 591ms/epoch - 3ms/step\n"
     ]
    }
   ],
   "source": [
    "history_gru=model_gru.fit(X_train,y_train,batch_size=32,epochs=30,validation_data=(X_test,y_test),verbose=2)"
   ]
  },
  {
   "cell_type": "code",
   "execution_count": 144,
   "id": "64459e2c",
   "metadata": {},
   "outputs": [
    {
     "data": {
      "text/html": [
       "<div>\n",
       "<style scoped>\n",
       "    .dataframe tbody tr th:only-of-type {\n",
       "        vertical-align: middle;\n",
       "    }\n",
       "\n",
       "    .dataframe tbody tr th {\n",
       "        vertical-align: top;\n",
       "    }\n",
       "\n",
       "    .dataframe thead th {\n",
       "        text-align: right;\n",
       "    }\n",
       "</style>\n",
       "<table border=\"1\" class=\"dataframe\">\n",
       "  <thead>\n",
       "    <tr style=\"text-align: right;\">\n",
       "      <th></th>\n",
       "      <th>loss</th>\n",
       "      <th>accuracy</th>\n",
       "      <th>val_loss</th>\n",
       "      <th>val_accuracy</th>\n",
       "    </tr>\n",
       "  </thead>\n",
       "  <tbody>\n",
       "    <tr>\n",
       "      <th>0</th>\n",
       "      <td>0.688836</td>\n",
       "      <td>0.562796</td>\n",
       "      <td>0.683145</td>\n",
       "      <td>0.581408</td>\n",
       "    </tr>\n",
       "    <tr>\n",
       "      <th>1</th>\n",
       "      <td>0.684917</td>\n",
       "      <td>0.566649</td>\n",
       "      <td>0.680469</td>\n",
       "      <td>0.581408</td>\n",
       "    </tr>\n",
       "    <tr>\n",
       "      <th>2</th>\n",
       "      <td>0.684334</td>\n",
       "      <td>0.566649</td>\n",
       "      <td>0.680602</td>\n",
       "      <td>0.581408</td>\n",
       "    </tr>\n",
       "    <tr>\n",
       "      <th>3</th>\n",
       "      <td>0.684400</td>\n",
       "      <td>0.566649</td>\n",
       "      <td>0.680766</td>\n",
       "      <td>0.581408</td>\n",
       "    </tr>\n",
       "    <tr>\n",
       "      <th>4</th>\n",
       "      <td>0.684365</td>\n",
       "      <td>0.566649</td>\n",
       "      <td>0.680911</td>\n",
       "      <td>0.581408</td>\n",
       "    </tr>\n",
       "    <tr>\n",
       "      <th>5</th>\n",
       "      <td>0.684366</td>\n",
       "      <td>0.566649</td>\n",
       "      <td>0.680629</td>\n",
       "      <td>0.581408</td>\n",
       "    </tr>\n",
       "    <tr>\n",
       "      <th>6</th>\n",
       "      <td>0.684294</td>\n",
       "      <td>0.566649</td>\n",
       "      <td>0.680209</td>\n",
       "      <td>0.581408</td>\n",
       "    </tr>\n",
       "    <tr>\n",
       "      <th>7</th>\n",
       "      <td>0.684419</td>\n",
       "      <td>0.566649</td>\n",
       "      <td>0.680035</td>\n",
       "      <td>0.581408</td>\n",
       "    </tr>\n",
       "    <tr>\n",
       "      <th>8</th>\n",
       "      <td>0.684461</td>\n",
       "      <td>0.566474</td>\n",
       "      <td>0.680011</td>\n",
       "      <td>0.581408</td>\n",
       "    </tr>\n",
       "    <tr>\n",
       "      <th>9</th>\n",
       "      <td>0.684352</td>\n",
       "      <td>0.566649</td>\n",
       "      <td>0.680245</td>\n",
       "      <td>0.581408</td>\n",
       "    </tr>\n",
       "    <tr>\n",
       "      <th>10</th>\n",
       "      <td>0.684330</td>\n",
       "      <td>0.566649</td>\n",
       "      <td>0.680038</td>\n",
       "      <td>0.581408</td>\n",
       "    </tr>\n",
       "    <tr>\n",
       "      <th>11</th>\n",
       "      <td>0.684341</td>\n",
       "      <td>0.566649</td>\n",
       "      <td>0.679791</td>\n",
       "      <td>0.581408</td>\n",
       "    </tr>\n",
       "    <tr>\n",
       "      <th>12</th>\n",
       "      <td>0.684033</td>\n",
       "      <td>0.566649</td>\n",
       "      <td>0.679642</td>\n",
       "      <td>0.581408</td>\n",
       "    </tr>\n",
       "    <tr>\n",
       "      <th>13</th>\n",
       "      <td>0.667874</td>\n",
       "      <td>0.595025</td>\n",
       "      <td>0.596035</td>\n",
       "      <td>0.718487</td>\n",
       "    </tr>\n",
       "    <tr>\n",
       "      <th>14</th>\n",
       "      <td>0.630632</td>\n",
       "      <td>0.640743</td>\n",
       "      <td>0.559236</td>\n",
       "      <td>0.765756</td>\n",
       "    </tr>\n",
       "    <tr>\n",
       "      <th>15</th>\n",
       "      <td>0.609161</td>\n",
       "      <td>0.655106</td>\n",
       "      <td>0.534463</td>\n",
       "      <td>0.767332</td>\n",
       "    </tr>\n",
       "    <tr>\n",
       "      <th>16</th>\n",
       "      <td>0.612414</td>\n",
       "      <td>0.655106</td>\n",
       "      <td>0.530716</td>\n",
       "      <td>0.771534</td>\n",
       "    </tr>\n",
       "    <tr>\n",
       "      <th>17</th>\n",
       "      <td>0.598421</td>\n",
       "      <td>0.661762</td>\n",
       "      <td>0.526175</td>\n",
       "      <td>0.770483</td>\n",
       "    </tr>\n",
       "    <tr>\n",
       "      <th>18</th>\n",
       "      <td>0.597037</td>\n",
       "      <td>0.661762</td>\n",
       "      <td>0.514860</td>\n",
       "      <td>0.772584</td>\n",
       "    </tr>\n",
       "    <tr>\n",
       "      <th>19</th>\n",
       "      <td>0.590491</td>\n",
       "      <td>0.669119</td>\n",
       "      <td>0.510437</td>\n",
       "      <td>0.780987</td>\n",
       "    </tr>\n",
       "    <tr>\n",
       "      <th>20</th>\n",
       "      <td>0.586872</td>\n",
       "      <td>0.674724</td>\n",
       "      <td>0.504502</td>\n",
       "      <td>0.775735</td>\n",
       "    </tr>\n",
       "    <tr>\n",
       "      <th>21</th>\n",
       "      <td>0.583504</td>\n",
       "      <td>0.675950</td>\n",
       "      <td>0.500923</td>\n",
       "      <td>0.785714</td>\n",
       "    </tr>\n",
       "    <tr>\n",
       "      <th>22</th>\n",
       "      <td>0.592303</td>\n",
       "      <td>0.668944</td>\n",
       "      <td>0.504750</td>\n",
       "      <td>0.782038</td>\n",
       "    </tr>\n",
       "    <tr>\n",
       "      <th>23</th>\n",
       "      <td>0.581222</td>\n",
       "      <td>0.676651</td>\n",
       "      <td>0.497428</td>\n",
       "      <td>0.787290</td>\n",
       "    </tr>\n",
       "    <tr>\n",
       "      <th>24</th>\n",
       "      <td>0.578612</td>\n",
       "      <td>0.675950</td>\n",
       "      <td>0.500057</td>\n",
       "      <td>0.774685</td>\n",
       "    </tr>\n",
       "    <tr>\n",
       "      <th>25</th>\n",
       "      <td>0.585570</td>\n",
       "      <td>0.672797</td>\n",
       "      <td>0.497645</td>\n",
       "      <td>0.783088</td>\n",
       "    </tr>\n",
       "    <tr>\n",
       "      <th>26</th>\n",
       "      <td>0.586695</td>\n",
       "      <td>0.664565</td>\n",
       "      <td>0.493308</td>\n",
       "      <td>0.789391</td>\n",
       "    </tr>\n",
       "    <tr>\n",
       "      <th>27</th>\n",
       "      <td>0.579857</td>\n",
       "      <td>0.676476</td>\n",
       "      <td>0.497755</td>\n",
       "      <td>0.789391</td>\n",
       "    </tr>\n",
       "    <tr>\n",
       "      <th>28</th>\n",
       "      <td>0.577534</td>\n",
       "      <td>0.680680</td>\n",
       "      <td>0.495128</td>\n",
       "      <td>0.788340</td>\n",
       "    </tr>\n",
       "    <tr>\n",
       "      <th>29</th>\n",
       "      <td>0.581756</td>\n",
       "      <td>0.671221</td>\n",
       "      <td>0.494677</td>\n",
       "      <td>0.792017</td>\n",
       "    </tr>\n",
       "  </tbody>\n",
       "</table>\n",
       "</div>"
      ],
      "text/plain": [
       "        loss  accuracy  val_loss  val_accuracy\n",
       "0   0.688836  0.562796  0.683145      0.581408\n",
       "1   0.684917  0.566649  0.680469      0.581408\n",
       "2   0.684334  0.566649  0.680602      0.581408\n",
       "3   0.684400  0.566649  0.680766      0.581408\n",
       "4   0.684365  0.566649  0.680911      0.581408\n",
       "5   0.684366  0.566649  0.680629      0.581408\n",
       "6   0.684294  0.566649  0.680209      0.581408\n",
       "7   0.684419  0.566649  0.680035      0.581408\n",
       "8   0.684461  0.566474  0.680011      0.581408\n",
       "9   0.684352  0.566649  0.680245      0.581408\n",
       "10  0.684330  0.566649  0.680038      0.581408\n",
       "11  0.684341  0.566649  0.679791      0.581408\n",
       "12  0.684033  0.566649  0.679642      0.581408\n",
       "13  0.667874  0.595025  0.596035      0.718487\n",
       "14  0.630632  0.640743  0.559236      0.765756\n",
       "15  0.609161  0.655106  0.534463      0.767332\n",
       "16  0.612414  0.655106  0.530716      0.771534\n",
       "17  0.598421  0.661762  0.526175      0.770483\n",
       "18  0.597037  0.661762  0.514860      0.772584\n",
       "19  0.590491  0.669119  0.510437      0.780987\n",
       "20  0.586872  0.674724  0.504502      0.775735\n",
       "21  0.583504  0.675950  0.500923      0.785714\n",
       "22  0.592303  0.668944  0.504750      0.782038\n",
       "23  0.581222  0.676651  0.497428      0.787290\n",
       "24  0.578612  0.675950  0.500057      0.774685\n",
       "25  0.585570  0.672797  0.497645      0.783088\n",
       "26  0.586695  0.664565  0.493308      0.789391\n",
       "27  0.579857  0.676476  0.497755      0.789391\n",
       "28  0.577534  0.680680  0.495128      0.788340\n",
       "29  0.581756  0.671221  0.494677      0.792017"
      ]
     },
     "execution_count": 144,
     "metadata": {},
     "output_type": "execute_result"
    }
   ],
   "source": [
    "info_gru = pd.DataFrame(history_gru.history)\n",
    "info_gru"
   ]
  },
  {
   "cell_type": "code",
   "execution_count": 145,
   "id": "a799749d",
   "metadata": {},
   "outputs": [
    {
     "name": "stdout",
     "output_type": "stream",
     "text": [
      "Highest Accuracy: 0.6806796193122864\n",
      "Highest Validation Accuracy: 0.7920168042182922\n"
     ]
    }
   ],
   "source": [
    "print(f'Highest Accuracy: {max(info_gru.accuracy)}')\n",
    "print(f'Highest Validation Accuracy: {max(info_gru.val_accuracy)}')"
   ]
  },
  {
   "cell_type": "code",
   "execution_count": 153,
   "id": "e877f184",
   "metadata": {},
   "outputs": [
    {
     "data": {
      "image/png": "[encoded data removed]",
      "text/plain": [
       "<Figure size 432x288 with 1 Axes>"
      ]
     },
     "metadata": {
      "needs_background": "light"
     },
     "output_type": "display_data"
    }
   ],
   "source": [
    "# Accuracy vs Epoch\n",
    "plt.title('GRU - Accuracy')\n",
    "plt.plot(history_gru.history['accuracy'], label='train')\n",
    "plt.plot(history_gru.history['val_accuracy'], label='test')\n",
    "plt.legend()\n",
    "plt.show();"
   ]
  },
  {
   "cell_type": "code",
   "execution_count": 156,
   "id": "e1fb515a",
   "metadata": {},
   "outputs": [
    {
     "data": {
      "image/png": "[encoded data removed]",
      "text/plain": [
       "<Figure size 432x288 with 1 Axes>"
      ]
     },
     "metadata": {
      "needs_background": "light"
     },
     "output_type": "display_data"
    }
   ],
   "source": [
    "# Loss vs Epoch\n",
    "# Visualize learning curve. Here learning curve is not ideal. It should be much smoother as it decreases.\n",
    "\n",
    "epoch_count = range(1, len(history_gru.history['loss']) + 1)\n",
    "plt.plot(epoch_count, history_gru.history['loss'], 'g--')\n",
    "plt.plot(epoch_count, history_gru.history['val_loss'], 'b-')\n",
    "plt.legend(['Training Loss', 'Validation Loss'])\n",
    "plt.xlabel('Epoch')\n",
    "plt.ylabel('Loss')\n",
    "plt.show()"
   ]
  },
  {
   "cell_type": "markdown",
   "id": "8082e82e",
   "metadata": {},
   "source": [
    "Looking at the information above, it looks like the LSTM model barely outperformed the GRU model on Validation accuracy, while it was much better at training accuracy. GRU ended up with 0.6806 and 0.7920 being the accuracy and training accuracy, repectively. Looking at the graphs though, we can see that the model doesn't improve in accuracy or loss until about the 12th epoch, then it jumps up and performs much better in validation accuracy and loss, than training accuracy and loss."
   ]
  },
  {
   "cell_type": "markdown",
   "id": "cec4fefc",
   "metadata": {},
   "source": [
    "## Predictions on Test Set for Submission\n",
    "\n",
    "Because the LSTM had the higher accuracy and was alot more stable, thats the model that I am going to use for the predictions."
   ]
  },
  {
   "cell_type": "code",
   "execution_count": 169,
   "id": "9e754269",
   "metadata": {},
   "outputs": [
    {
     "name": "stderr",
     "output_type": "stream",
     "text": [
      "100%|███████████████████████████████████████████████████████████████████████████| 3263/3263 [00:00<00:00, 14899.70it/s]\n"
     ]
    }
   ],
   "source": [
    "# Creating Test Corpus\n",
    "test_corpus = create_corpus(test)"
   ]
  },
  {
   "cell_type": "code",
   "execution_count": 170,
   "id": "ca08375d",
   "metadata": {},
   "outputs": [],
   "source": [
    "# Encoding Test Text to Sequences\n",
    "test_sequences = tokenizer.texts_to_sequences(test_corpus)\n",
    "test_corpus_pad = pad_sequences(test_sequences, maxlen=MAX_LEN, truncating='post', padding='post')"
   ]
  },
  {
   "cell_type": "code",
   "execution_count": 175,
   "id": "f907db97",
   "metadata": {},
   "outputs": [],
   "source": [
    "# Predictions\n",
    "predictions = model_lstm.predict(test_corpus_pad)\n",
    "predictions = np.round(predictions).astype(int).reshape(3263)"
   ]
  },
  {
   "cell_type": "code",
   "execution_count": 176,
   "id": "7343a4e2",
   "metadata": {},
   "outputs": [
    {
     "data": {
      "text/html": [
       "<div>\n",
       "<style scoped>\n",
       "    .dataframe tbody tr th:only-of-type {\n",
       "        vertical-align: middle;\n",
       "    }\n",
       "\n",
       "    .dataframe tbody tr th {\n",
       "        vertical-align: top;\n",
       "    }\n",
       "\n",
       "    .dataframe thead th {\n",
       "        text-align: right;\n",
       "    }\n",
       "</style>\n",
       "<table border=\"1\" class=\"dataframe\">\n",
       "  <thead>\n",
       "    <tr style=\"text-align: right;\">\n",
       "      <th></th>\n",
       "      <th>id</th>\n",
       "      <th>target</th>\n",
       "    </tr>\n",
       "  </thead>\n",
       "  <tbody>\n",
       "    <tr>\n",
       "      <th>0</th>\n",
       "      <td>0</td>\n",
       "      <td>1</td>\n",
       "    </tr>\n",
       "    <tr>\n",
       "      <th>1</th>\n",
       "      <td>2</td>\n",
       "      <td>0</td>\n",
       "    </tr>\n",
       "    <tr>\n",
       "      <th>2</th>\n",
       "      <td>3</td>\n",
       "      <td>1</td>\n",
       "    </tr>\n",
       "    <tr>\n",
       "      <th>3</th>\n",
       "      <td>9</td>\n",
       "      <td>1</td>\n",
       "    </tr>\n",
       "    <tr>\n",
       "      <th>4</th>\n",
       "      <td>11</td>\n",
       "      <td>1</td>\n",
       "    </tr>\n",
       "  </tbody>\n",
       "</table>\n",
       "</div>"
      ],
      "text/plain": [
       "   id  target\n",
       "0   0       1\n",
       "1   2       0\n",
       "2   3       1\n",
       "3   9       1\n",
       "4  11       1"
      ]
     },
     "execution_count": 176,
     "metadata": {},
     "output_type": "execute_result"
    }
   ],
   "source": [
    "# Creating submission file \n",
    "submission = pd.DataFrame({'id' : test['id'], 'target' : predictions})\n",
    "submission.to_csv('final_submission.csv', index=False)\n",
    "submission.head()"
   ]
  },
  {
   "attachments": {
    "image.png": {
     "image/png": "[encoded data removed]"
    }
   },
   "cell_type": "markdown",
   "id": "35477cc5",
   "metadata": {},
   "source": [
    "![image.png](attachment:image.png)"
   ]
  },
  {
   "cell_type": "markdown",
   "id": "ba20cbd1",
   "metadata": {},
   "source": [
    "## Conclusion\n",
    "\n",
    "Having submitted the predictions to Kaggle and getting a score of 0.7958, I am happy with my model implemintation.\n",
    "\n",
    "Comparing the two models, GRU and LSTM, our LSTM model performed better. It achieved both a higher training accuracy and a higher validation accuracy. \n",
    "\n",
    "I could have probably made the GRU model more complex, maybe adding more than one GRU layer. But with the accuracy coming out to be just under .80, I was happy with using it as a actual model.\n"
   ]
  },
  {
   "cell_type": "markdown",
   "id": "510d7f25",
   "metadata": {},
   "source": [
    "### Refrences:\n",
    "\n",
    "    https://machinelearningmastery.com/use-word-embedding-layers-deep-learning-keras/\n",
    "    https://www.kaggle.com/code/anmolstha/disaster-tweets-simple-rnn-implementation/notebook \n",
    "    https://www.kaggle.com/code/asmaamosa/nlp-getting-started\n",
    "    https://www.kaggle.com/datasets/danielwillgeorge/glove6b100dtxt\n",
    "    https://www.kaggle.com/code/anshulmehtakaggl/intro-to-nlp-with-tensorflow\n",
    "\n"
   ]
  }
 ],
 "metadata": {
  "kernelspec": {
   "display_name": "Python 3.9 (tensorflow)",
   "language": "python",
   "name": "tensorflow"
  },
  "language_info": {
   "codemirror_mode": {
    "name": "ipython",
    "version": 3
   },
   "file_extension": ".py",
   "mimetype": "text/x-python",
   "name": "python",
   "nbconvert_exporter": "python",
   "pygments_lexer": "ipython3",
   "version": "3.9.12"
  }
 },
 "nbformat": 4,
 "nbformat_minor": 5
}
